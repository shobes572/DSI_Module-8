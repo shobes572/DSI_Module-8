{
 "cells": [
  {
   "cell_type": "markdown",
   "metadata": {},
   "source": [
    "# Assignment for Module 8 Checkpoint 5\n",
    "\n",
    "### Begin init"
   ]
  },
  {
   "cell_type": "code",
   "execution_count": 90,
   "metadata": {},
   "outputs": [],
   "source": [
    "import psycopg2\n",
    "from sqlalchemy import create_engine\n",
    "import requests as rq\n",
    "import pandas as pd\n",
    "\n",
    "postgres_user = 'dsbc_student'\n",
    "postgres_pw = '7*.8G9QH21'\n",
    "postgres_host = '142.93.121.174'\n",
    "postgres_port = '5432'\n",
    "postgres_db = 'dvdrentals'\n",
    "db_connection = 'postgresql://{}:{}@{}:{}/{}'.format(postgres_user, postgres_pw, postgres_host, postgres_port, postgres_db)\n"
   ]
  },
  {
   "cell_type": "markdown",
   "metadata": {},
   "source": [
    "## 1. How many movies are released for each rating?"
   ]
  },
  {
   "cell_type": "code",
   "execution_count": 91,
   "metadata": {},
   "outputs": [
    {
     "data": {
      "text/html": [
       "<div>\n",
       "<style scoped>\n",
       "    .dataframe tbody tr th:only-of-type {\n",
       "        vertical-align: middle;\n",
       "    }\n",
       "\n",
       "    .dataframe tbody tr th {\n",
       "        vertical-align: top;\n",
       "    }\n",
       "\n",
       "    .dataframe thead th {\n",
       "        text-align: right;\n",
       "    }\n",
       "</style>\n",
       "<table border=\"1\" class=\"dataframe\">\n",
       "  <thead>\n",
       "    <tr style=\"text-align: right;\">\n",
       "      <th></th>\n",
       "      <th>rating</th>\n",
       "      <th>total_count</th>\n",
       "    </tr>\n",
       "  </thead>\n",
       "  <tbody>\n",
       "    <tr>\n",
       "      <td>0</td>\n",
       "      <td>R</td>\n",
       "      <td>195</td>\n",
       "    </tr>\n",
       "    <tr>\n",
       "      <td>1</td>\n",
       "      <td>NC-17</td>\n",
       "      <td>210</td>\n",
       "    </tr>\n",
       "    <tr>\n",
       "      <td>2</td>\n",
       "      <td>PG</td>\n",
       "      <td>194</td>\n",
       "    </tr>\n",
       "    <tr>\n",
       "      <td>3</td>\n",
       "      <td>PG-13</td>\n",
       "      <td>223</td>\n",
       "    </tr>\n",
       "    <tr>\n",
       "      <td>4</td>\n",
       "      <td>G</td>\n",
       "      <td>178</td>\n",
       "    </tr>\n",
       "  </tbody>\n",
       "</table>\n",
       "</div>"
      ],
      "text/plain": [
       "  rating  total_count\n",
       "0      R          195\n",
       "1  NC-17          210\n",
       "2     PG          194\n",
       "3  PG-13          223\n",
       "4      G          178"
      ]
     },
     "execution_count": 91,
     "metadata": {},
     "output_type": "execute_result"
    }
   ],
   "source": [
    "query = '''\n",
    "SELECT rating, COUNT(*) AS total_count FROM film\n",
    "GROUP BY rating\n",
    ";'''\n",
    "\n",
    "rating_count = pd.read_sql(query, db_connection)\n",
    "rating_count"
   ]
  },
  {
   "cell_type": "markdown",
   "metadata": {},
   "source": [
    "## 2. What is the average rental duration for each rating?"
   ]
  },
  {
   "cell_type": "code",
   "execution_count": 92,
   "metadata": {},
   "outputs": [
    {
     "data": {
      "text/html": [
       "<div>\n",
       "<style scoped>\n",
       "    .dataframe tbody tr th:only-of-type {\n",
       "        vertical-align: middle;\n",
       "    }\n",
       "\n",
       "    .dataframe tbody tr th {\n",
       "        vertical-align: top;\n",
       "    }\n",
       "\n",
       "    .dataframe thead th {\n",
       "        text-align: right;\n",
       "    }\n",
       "</style>\n",
       "<table border=\"1\" class=\"dataframe\">\n",
       "  <thead>\n",
       "    <tr style=\"text-align: right;\">\n",
       "      <th></th>\n",
       "      <th>rating</th>\n",
       "      <th>avg_rent_duration</th>\n",
       "    </tr>\n",
       "  </thead>\n",
       "  <tbody>\n",
       "    <tr>\n",
       "      <td>0</td>\n",
       "      <td>R</td>\n",
       "      <td>4.77</td>\n",
       "    </tr>\n",
       "    <tr>\n",
       "      <td>1</td>\n",
       "      <td>NC-17</td>\n",
       "      <td>5.14</td>\n",
       "    </tr>\n",
       "    <tr>\n",
       "      <td>2</td>\n",
       "      <td>PG</td>\n",
       "      <td>5.08</td>\n",
       "    </tr>\n",
       "    <tr>\n",
       "      <td>3</td>\n",
       "      <td>PG-13</td>\n",
       "      <td>5.05</td>\n",
       "    </tr>\n",
       "    <tr>\n",
       "      <td>4</td>\n",
       "      <td>G</td>\n",
       "      <td>4.84</td>\n",
       "    </tr>\n",
       "  </tbody>\n",
       "</table>\n",
       "</div>"
      ],
      "text/plain": [
       "  rating  avg_rent_duration\n",
       "0      R               4.77\n",
       "1  NC-17               5.14\n",
       "2     PG               5.08\n",
       "3  PG-13               5.05\n",
       "4      G               4.84"
      ]
     },
     "execution_count": 92,
     "metadata": {},
     "output_type": "execute_result"
    }
   ],
   "source": [
    "query = '''\n",
    "SELECT rating, ROUND(AVG(rental_duration), 2) AS avg_rent_duration FROM film\n",
    "GROUP BY rating\n",
    ";'''\n",
    "\n",
    "avg_rent_duration = pd.read_sql(query, db_connection)\n",
    "avg_rent_duration"
   ]
  },
  {
   "cell_type": "markdown",
   "metadata": {},
   "source": [
    "## 3. What is the mean movie length? Calculate this by defining a function."
   ]
  },
  {
   "cell_type": "code",
   "execution_count": 93,
   "metadata": {},
   "outputs": [
    {
     "name": "stdout",
     "output_type": "stream",
     "text": [
      "   rental_rate  mean_duration\n",
      "0         2.99         117.19\n",
      "1         4.99         115.82\n",
      "2         0.99         112.91 \n",
      "\n",
      "  rating  mean_duration\n",
      "0      R         118.66\n",
      "1  NC-17         113.23\n",
      "2     PG         112.01\n",
      "3  PG-13         120.44\n",
      "4      G         111.05 \n",
      "\n",
      "   release_year  mean_duration\n",
      "0          2006         115.27 \n",
      "\n"
     ]
    }
   ],
   "source": [
    "def mean_movie_length(param):\n",
    "    query = '''\n",
    "    SELECT ''' + param + ''', ROUND(AVG(length), 2) AS mean_duration FROM film\n",
    "    GROUP BY ''' + param + '''\n",
    "    ;'''\n",
    "    return pd.read_sql(query, db_connection)\n",
    "\n",
    "mean_duration_rating = mean_movie_length('rating')\n",
    "mean_duration_release = mean_movie_length('release_year')\n",
    "mean_duration_rate = mean_movie_length('rental_rate')\n",
    "print(mean_duration_rate, '\\n')\n",
    "print(mean_duration_rating, '\\n')\n",
    "print(mean_duration_release, '\\n')"
   ]
  },
  {
   "cell_type": "markdown",
   "metadata": {},
   "source": [
    "## 4. What is the median movie length? Calculate this by defining a function."
   ]
  },
  {
   "cell_type": "code",
   "execution_count": null,
   "metadata": {
    "scrolled": true
   },
   "outputs": [],
   "source": [
    "db_engine = create_engine(db_connection)\n",
    "\n",
    "query = '''\n",
    "CREATE OR REPLACE FUNCTION _final_median(NUMERIC[])\n",
    "    RETURNS NUMERIC AS\n",
    "$$\n",
    "    SELECT AVG(val)\n",
    "    FROM (\n",
    "        SELECT val\n",
    "        FROM unnest($1) val\n",
    "        ORDER BY 1\n",
    "        LIMIT  2 - MOD(array_upper($1, 1), 2)\n",
    "        OFFSET CEIL(array_upper($1, 1) / 2.0) - 1\n",
    "    ) sub;\n",
    "$$\n",
    "LANGUAGE 'sql' IMMUTABLE;\n",
    "\n",
    "CREATE AGGREGATE median(NUMERIC) (\n",
    "    SFUNC=array_append,\n",
    "    STYPE=NUMERIC[],\n",
    "    FINALFUNC=_final_median,\n",
    "    INITCOND='{}'\n",
    ");'''\n",
    "\n",
    "db_engine.connect().execute(query)"
   ]
  },
  {
   "cell_type": "code",
   "execution_count": 96,
   "metadata": {
    "scrolled": true
   },
   "outputs": [
    {
     "name": "stdout",
     "output_type": "stream",
     "text": [
      "   rental_rate  median_duration\n",
      "0         2.99            116.0\n",
      "1         4.99            116.5\n",
      "2         0.99            111.0 \n",
      "\n",
      "  rating  median_duration\n",
      "0      R            115.0\n",
      "1  NC-17            112.5\n",
      "2     PG            113.5\n",
      "3  PG-13            125.0\n",
      "4      G            107.5 \n",
      "\n",
      "   release_year  median_duration\n",
      "0          2006            114.0 \n",
      "\n"
     ]
    }
   ],
   "source": [
    "def median_movie_length(param):\n",
    "    query = '''\n",
    "    SELECT ''' + param + ''', MEDIAN(length) AS median_duration FROM film\n",
    "    GROUP BY ''' + param + '''\n",
    "    ;'''\n",
    "    return pd.read_sql(query, db_connection)\n",
    "\n",
    "median_duration_rating = median_movie_length('rating')\n",
    "median_duration_release = median_movie_length('release_year')\n",
    "median_duration_rate = median_movie_length('rental_rate')\n",
    "print(median_duration_rate, '\\n')\n",
    "print(median_duration_rating, '\\n')\n",
    "print(median_duration_release, '\\n')"
   ]
  },
  {
   "cell_type": "markdown",
   "metadata": {},
   "source": [
    "## 5. Calculate the standard deviation of the movie lengths. Calculate this by defining a function."
   ]
  },
  {
   "cell_type": "code",
   "execution_count": 98,
   "metadata": {},
   "outputs": [
    {
     "name": "stdout",
     "output_type": "stream",
     "text": [
      "   rental_rate  stddev_duration\n",
      "0         2.99            39.92\n",
      "1         4.99            40.80\n",
      "2         0.99            40.54 \n",
      "\n",
      "  rating  stddev_duration\n",
      "0      R            38.51\n",
      "1  NC-17            40.82\n",
      "2     PG            39.26\n",
      "3  PG-13            41.17\n",
      "4      G            41.77 \n",
      "\n",
      "   release_year  stddev_duration\n",
      "0          2006            40.43 \n",
      "\n"
     ]
    }
   ],
   "source": [
    "def stddev_movie_length(param):\n",
    "    query = '''\n",
    "    SELECT ''' + param + ''', ROUND(STDDEV(length), 2) AS stddev_duration FROM film\n",
    "    GROUP BY ''' + param + '''\n",
    "    ;'''\n",
    "    return pd.read_sql(query, db_connection)\n",
    "\n",
    "stddev_duration_rating = stddev_movie_length('rating')\n",
    "stddev_duration_release = stddev_movie_length('release_year')\n",
    "stddev_duration_rate = stddev_movie_length('rental_rate')\n",
    "print(stddev_duration_rate, '\\n')\n",
    "print(stddev_duration_rating, '\\n')\n",
    "print(stddev_duration_release, '\\n')"
   ]
  }
 ],
 "metadata": {
  "kernelspec": {
   "display_name": "Python 3",
   "language": "python",
   "name": "python3"
  },
  "language_info": {
   "codemirror_mode": {
    "name": "ipython",
    "version": 3
   },
   "file_extension": ".py",
   "mimetype": "text/x-python",
   "name": "python",
   "nbconvert_exporter": "python",
   "pygments_lexer": "ipython3",
   "version": "3.7.4"
  }
 },
 "nbformat": 4,
 "nbformat_minor": 2
}
